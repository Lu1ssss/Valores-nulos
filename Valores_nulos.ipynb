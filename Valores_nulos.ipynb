{
  "nbformat": 4,
  "nbformat_minor": 0,
  "metadata": {
    "colab": {
      "provenance": []
    },
    "kernelspec": {
      "name": "python3",
      "display_name": "Python 3"
    },
    "language_info": {
      "name": "python"
    }
  },
  "cells": [
    {
      "cell_type": "code",
      "execution_count": 1,
      "metadata": {
        "id": "kUWdOphA88G9"
      },
      "outputs": [],
      "source": [
        "#librerias requeridas\n",
        "import pandas as pd\n",
        "import numpy as np\n",
        "import matplotlib.pyplot as plt\n",
        "import seaborn as sns"
      ]
    },
    {
      "cell_type": "code",
      "source": [
        "#cargar archivo csv desde equipo\n",
        "from google.colab import files\n",
        "files.upload()"
      ],
      "metadata": {
        "id": "oh2aoEB5-O89"
      },
      "execution_count": null,
      "outputs": []
    },
    {
      "cell_type": "code",
      "source": [
        "#cargar desde un archivo .csv sin indice\n",
        "data = pd.read_csv(\"Ventas_totales.csv\")\n",
        "data.head(5)"
      ],
      "metadata": {
        "id": "ZdFFgYf_-QRo"
      },
      "execution_count": null,
      "outputs": []
    },
    {
      "cell_type": "code",
      "source": [
        "#identificar valores nulos por columna\n",
        "valores_nulos=data.isnull().sum()\n",
        "valores_nulos"
      ],
      "metadata": {
        "id": "ywoxTGsy-zQI"
      },
      "execution_count": null,
      "outputs": []
    },
    {
      "cell_type": "code",
      "source": [
        "#realizamos una copia del dataframe\n",
        "data1=data.copy()"
      ],
      "metadata": {
        "id": "sw_n_GZE_Ade"
      },
      "execution_count": 7,
      "outputs": []
    },
    {
      "cell_type": "code",
      "source": [
        "#primer metodo de sustitución de valores nulos\n",
        "#sustituir valores nulos con promedio o medio\n",
        "data1[\"salon_ventas\"]=data1[\"salon_ventas\"].fillna(round(data[\"salon_ventas\"].mean(),1))"
      ],
      "metadata": {
        "id": "uHB3ydc2_C7p"
      },
      "execution_count": 9,
      "outputs": []
    },
    {
      "cell_type": "code",
      "source": [
        "#corroboramos valores nulos\n",
        "valores_nulos=data1.isnull().sum()\n",
        "valores_nulos"
      ],
      "metadata": {
        "id": "4GPDAg8v_Pfh"
      },
      "execution_count": null,
      "outputs": []
    },
    {
      "cell_type": "code",
      "source": [
        "#segundo metodo de sustitución de valores nulos\n",
        "#sustituir valores nulos con mediana\n",
        "data1[\"subtotal_ventas_alimentos_bebidas\"]=data1[\"subtotal_ventas_alimentos_bebidas\"].fillna(round(data[\"subtotal_ventas_alimentos_bebidas\"].mean(),1))\n",
        "data1"
      ],
      "metadata": {
        "id": "DKolgrfK_WKe"
      },
      "execution_count": null,
      "outputs": []
    },
    {
      "cell_type": "code",
      "source": [
        "#corroboramos valores nulos\n",
        "valores_nulos=data1.isnull().sum()\n",
        "valores_nulos"
      ],
      "metadata": {
        "id": "cIoJ3jwK_ln4"
      },
      "execution_count": null,
      "outputs": []
    },
    {
      "cell_type": "code",
      "source": [
        "#tercer metodo de sustitución de valores nulos\n",
        "#sustituir valores nulos por un valor numerico en concreto\n",
        "data1[\"otros\"]= data1[\"otros\"].fillna(10)\n",
        "data1"
      ],
      "metadata": {
        "id": "_6Yn0JPY_n70"
      },
      "execution_count": null,
      "outputs": []
    },
    {
      "cell_type": "code",
      "source": [
        "#corroboramos valores nulos\n",
        "valores_nulos=data1.isnull().sum()\n",
        "valores_nulos"
      ],
      "metadata": {
        "id": "4PWl6MhK_zXQ"
      },
      "execution_count": null,
      "outputs": []
    },
    {
      "cell_type": "code",
      "source": [
        "#cuarto metodo de sustitución de valores nulos\n",
        "#sustituir valores nulos por un string en concreto\n",
        "data1[\"electronicos_articulos_hogar\"]= data1[\"electronicos_articulos_hogar\"].fillna(\"2020-06-19 00:00:00\")"
      ],
      "metadata": {
        "id": "NFL1Tvaq_3qB"
      },
      "execution_count": 16,
      "outputs": []
    },
    {
      "cell_type": "code",
      "source": [
        "#corroboramos valores nulos\n",
        "valores_nulos=data1.isnull().sum()\n",
        "valores_nulos"
      ],
      "metadata": {
        "id": "fw6IsnbhABBg"
      },
      "execution_count": null,
      "outputs": []
    },
    {
      "cell_type": "code",
      "source": [
        "#quinto metodo de sustitución de valores nulos\n",
        "#sustituir valores nulos por valores nulos hacia adelante \"forward fill\" (\"ffill\")\n",
        "#filtro por columnas\n",
        "data1[\"indumentaria_calzado_textiles_hogar\"]= data1[\"indumentaria_calzado_textiles_hogar\"].fillna(method=\"ffill\")"
      ],
      "metadata": {
        "id": "rhxXTOVAADvG"
      },
      "execution_count": 19,
      "outputs": []
    },
    {
      "cell_type": "code",
      "source": [
        "#corroboramos valores nulos\n",
        "valores_nulos=data1.isnull().sum()\n",
        "valores_nulos"
      ],
      "metadata": {
        "id": "VqCHpoFsAQNF"
      },
      "execution_count": null,
      "outputs": []
    },
    {
      "cell_type": "code",
      "source": [
        "#sexto metodo de sustitución de valores nulos\n",
        "#sustituir valores nulos por valores no nulos hacia atras \"backward fill\" (\"bfill\")\n",
        "#filtro por columnas\n",
        "data1[\"alimentos_preparados_rotiseria\"]= data1[\"alimentos_preparados_rotiseria\"].fillna(method=\"bfill\")"
      ],
      "metadata": {
        "id": "pjxNs24tAS67"
      },
      "execution_count": 21,
      "outputs": []
    },
    {
      "cell_type": "code",
      "source": [
        "#corroboramos valores nulos\n",
        "valores_nulos=data1.isnull().sum()\n",
        "valores_nulos"
      ],
      "metadata": {
        "id": "lVUksSWGAZzD"
      },
      "execution_count": null,
      "outputs": []
    },
    {
      "cell_type": "code",
      "source": [
        "#segundo metodo de sustitución de valores nulos\n",
        "#sustituir valores nulos con mediana\n",
        "data1[\"verduleria_fruteria\"]=data1[\"subtotal_ventas_alimentos_bebidas\"].fillna(round(data[\"verduleria_fruteria\"].mean(),1))\n",
        "data1"
      ],
      "metadata": {
        "id": "kBg1K9NtAe99"
      },
      "execution_count": null,
      "outputs": []
    },
    {
      "cell_type": "code",
      "source": [
        "#corroboramos valores nulos\n",
        "valores_nulos=data1.isnull().sum()\n",
        "valores_nulos"
      ],
      "metadata": {
        "id": "3XforexJAn-x"
      },
      "execution_count": null,
      "outputs": []
    },
    {
      "cell_type": "code",
      "source": [
        "#cuarto metodo de sustitución de valores nulos\n",
        "#sustituir valores nulos por un string en concreto\n",
        "data1[\"carnes\"]= data1[\"carnes\"].fillna(\"2020-06-19 00:00:00\")"
      ],
      "metadata": {
        "id": "VyGelyK8AuNM"
      },
      "execution_count": 25,
      "outputs": []
    },
    {
      "cell_type": "code",
      "source": [
        "#corroboramos valores nulos\n",
        "valores_nulos=data1.isnull().sum()\n",
        "valores_nulos"
      ],
      "metadata": {
        "id": "v7_0HLW5A1xU"
      },
      "execution_count": null,
      "outputs": []
    },
    {
      "cell_type": "code",
      "source": [
        "#primer metodo de sustitución de valores nulos\n",
        "#sustituir valores nulos con promedio o medio\n",
        "data1[\"tarjetas_credito\"]=data1[\"tarjetas_credito\"].fillna(round(data[\"tarjetas_credito\"].mean(),1))"
      ],
      "metadata": {
        "id": "xiVRFclmA3rD"
      },
      "execution_count": 27,
      "outputs": []
    },
    {
      "cell_type": "code",
      "source": [
        "#corroboramos valores nulos\n",
        "valores_nulos=data1.isnull().sum()\n",
        "valores_nulos"
      ],
      "metadata": {
        "id": "Ts5RnmN-A_Qv"
      },
      "execution_count": null,
      "outputs": []
    },
    {
      "cell_type": "code",
      "source": [
        "#tercer metodo de sustitución de valores nulos\n",
        "#sustituir valores nulos por un valor numerico en concreto\n",
        "data1[\"tarjetas_debito\"]= data1[\"tarjetas_debito\"].fillna(10)\n",
        "data1"
      ],
      "metadata": {
        "id": "rhZkUiglBBem"
      },
      "execution_count": null,
      "outputs": []
    },
    {
      "cell_type": "code",
      "source": [
        "#corroboramos valores nulos\n",
        "valores_nulos=data1.isnull().sum()\n",
        "valores_nulos"
      ],
      "metadata": {
        "id": "bkyyqI1zBJk9"
      },
      "execution_count": null,
      "outputs": []
    },
    {
      "cell_type": "code",
      "source": [
        "#sexto metodo de sustitución de valores nulos\n",
        "#sustituir valores nulos por valores no nulos hacia atras \"backward fill\" (\"bfill\")\n",
        "#filtro por columnas\n",
        "data1[\"lacteos\"]= data1[\"lacteos\"].fillna(method=\"bfill\")"
      ],
      "metadata": {
        "id": "QL5geuypBNyu"
      },
      "execution_count": 31,
      "outputs": []
    },
    {
      "cell_type": "code",
      "source": [
        "#corroboramos valores nulos\n",
        "valores_nulos=data1.isnull().sum()\n",
        "valores_nulos"
      ],
      "metadata": {
        "id": "bEbUSIiHBRjz"
      },
      "execution_count": null,
      "outputs": []
    },
    {
      "cell_type": "code",
      "source": [
        "#quinto metodo de sustitución de valores nulos\n",
        "#sustituir valores nulos por valores nulos hacia adelante \"forward fill\" (\"ffill\")\n",
        "#filtro por columnas\n",
        "data1[\"almacen\"]= data1[\"almacen\"].fillna(method=\"ffill\")"
      ],
      "metadata": {
        "id": "E1J6ouPhBVKr"
      },
      "execution_count": 33,
      "outputs": []
    },
    {
      "cell_type": "code",
      "source": [
        "#corroboramos valores nulos\n",
        "valores_nulos=data1.isnull().sum()\n",
        "valores_nulos"
      ],
      "metadata": {
        "id": "ggd9fBciBck0"
      },
      "execution_count": null,
      "outputs": []
    },
    {
      "cell_type": "code",
      "source": [
        "#quinto metodo de sustitución de valores nulos\n",
        "#sustituir valores nulos por valores nulos hacia adelante \"forward fill\" (\"ffill\")\n",
        "#filtro por columnas\n",
        "data1[\"bebidas\"]= data1[\"bebidas\"].fillna(method=\"ffill\")"
      ],
      "metadata": {
        "id": "LlWY_qJqBfUK"
      },
      "execution_count": 35,
      "outputs": []
    },
    {
      "cell_type": "code",
      "source": [
        "#corroboramos valores nulos\n",
        "valores_nulos=data1.isnull().sum()\n",
        "valores_nulos"
      ],
      "metadata": {
        "id": "vNdj8Yt9Blih"
      },
      "execution_count": null,
      "outputs": []
    },
    {
      "cell_type": "code",
      "source": [
        "#segundo metodo de sustitución de valores nulos\n",
        "#sustituir valores nulos con mediana\n",
        "data1[\"otros_medios\"]=data1[\"otros_medios\"].fillna(round(data[\"otros_medios\"].mean(),1))\n",
        "data1"
      ],
      "metadata": {
        "id": "X-rhXeg1BoD5"
      },
      "execution_count": null,
      "outputs": []
    },
    {
      "cell_type": "code",
      "source": [
        "#corroboramos valores nulos\n",
        "valores_nulos=data1.isnull().sum()\n",
        "valores_nulos"
      ],
      "metadata": {
        "colab": {
          "base_uri": "https://localhost:8080/"
        },
        "id": "UlzJLTmKBvQn",
        "outputId": "55241a70-b7cf-4053-8060-a25b9c7df031"
      },
      "execution_count": 38,
      "outputs": [
        {
          "output_type": "execute_result",
          "data": {
            "text/plain": [
              "indice_tiempo                          0\n",
              "ventas_precios_corrientes              0\n",
              "ventas_precios_constantes              0\n",
              "ventas_totales_canal_venta             0\n",
              "salon_ventas                           0\n",
              "canales_on_line                        0\n",
              "ventas_totales_medio_pago              0\n",
              "efectivo                               0\n",
              "tarjetas_debito                        0\n",
              "tarjetas_credito                       0\n",
              "otros_medios                           0\n",
              "ventas_totales_grupo_articulos         0\n",
              "subtotal_ventas_alimentos_bebidas      0\n",
              "bebidas                                0\n",
              "almacen                                0\n",
              "panaderia                              1\n",
              "lacteos                                0\n",
              "carnes                                 0\n",
              "verduleria_fruteria                    0\n",
              "alimentos_preparados_rotiseria         0\n",
              "articulos_limpieza_perfumeria          0\n",
              "indumentaria_calzado_textiles_hogar    0\n",
              "electronicos_articulos_hogar           0\n",
              "otros                                  0\n",
              "dtype: int64"
            ]
          },
          "metadata": {},
          "execution_count": 38
        }
      ]
    },
    {
      "cell_type": "code",
      "source": [
        "#cuarto metodo de sustitución de valores nulos\n",
        "#sustituir valores nulos por un string en concreto\n",
        "data1[\"carnes\"]= data1[\"carnes\"].fillna(\"2020-06-19 00:00:00\")"
      ],
      "metadata": {
        "id": "a8AWMQtvBxj2"
      },
      "execution_count": 39,
      "outputs": []
    },
    {
      "cell_type": "code",
      "source": [
        "#corroboramos valores nulos\n",
        "valores_nulos=data1.isnull().sum()\n",
        "valores_nulos"
      ],
      "metadata": {
        "id": "mFMn1lmyB1KF"
      },
      "execution_count": null,
      "outputs": []
    },
    {
      "cell_type": "code",
      "source": [
        "#primer metodo de sustitución de valores nulos\n",
        "#sustituir valores nulos con promedio o medio\n",
        "data1[\"panaderia\"]=data1[\"panaderia\"].fillna(round(data[\"panaderia\"].mean(),1))"
      ],
      "metadata": {
        "id": "5aqxkUbYB3VX"
      },
      "execution_count": 42,
      "outputs": []
    },
    {
      "cell_type": "code",
      "source": [
        "#corroboramos valores nulos\n",
        "valores_nulos=data1.isnull().sum()\n",
        "valores_nulos"
      ],
      "metadata": {
        "colab": {
          "base_uri": "https://localhost:8080/"
        },
        "id": "imnUlb_-B-cV",
        "outputId": "072c728a-d995-4fe4-f157-43d1c0d97b72"
      },
      "execution_count": 43,
      "outputs": [
        {
          "output_type": "execute_result",
          "data": {
            "text/plain": [
              "indice_tiempo                          0\n",
              "ventas_precios_corrientes              0\n",
              "ventas_precios_constantes              0\n",
              "ventas_totales_canal_venta             0\n",
              "salon_ventas                           0\n",
              "canales_on_line                        0\n",
              "ventas_totales_medio_pago              0\n",
              "efectivo                               0\n",
              "tarjetas_debito                        0\n",
              "tarjetas_credito                       0\n",
              "otros_medios                           0\n",
              "ventas_totales_grupo_articulos         0\n",
              "subtotal_ventas_alimentos_bebidas      0\n",
              "bebidas                                0\n",
              "almacen                                0\n",
              "panaderia                              0\n",
              "lacteos                                0\n",
              "carnes                                 0\n",
              "verduleria_fruteria                    0\n",
              "alimentos_preparados_rotiseria         0\n",
              "articulos_limpieza_perfumeria          0\n",
              "indumentaria_calzado_textiles_hogar    0\n",
              "electronicos_articulos_hogar           0\n",
              "otros                                  0\n",
              "dtype: int64"
            ]
          },
          "metadata": {},
          "execution_count": 43
        }
      ]
    },
    {
      "cell_type": "code",
      "source": [
        "# Corroborar valores nulos en todo el dataframe\n",
        "# Ya no hay filtro por columnas\n",
        "nulos=data1.isnull().sum().sum()\n",
        "nulos"
      ],
      "metadata": {
        "colab": {
          "base_uri": "https://localhost:8080/"
        },
        "id": "brfrJauOCB0S",
        "outputId": "95150eee-9d68-4f63-98ac-49429151a134"
      },
      "execution_count": 45,
      "outputs": [
        {
          "output_type": "execute_result",
          "data": {
            "text/plain": [
              "0"
            ]
          },
          "metadata": {},
          "execution_count": 45
        }
      ]
    },
    {
      "cell_type": "code",
      "source": [
        "#Convertir DataFrame a CSV\n",
        "data1.to_csv(\"Valores_nulos.csv\")\n",
        "files.download(\"Valores_nulos.csv\")"
      ],
      "metadata": {
        "colab": {
          "base_uri": "https://localhost:8080/",
          "height": 17
        },
        "id": "ApXwM-W5ECNc",
        "outputId": "68fb7b3d-5974-4f5b-a412-541a9ffb92a9"
      },
      "execution_count": 46,
      "outputs": [
        {
          "output_type": "display_data",
          "data": {
            "text/plain": [
              "<IPython.core.display.Javascript object>"
            ],
            "application/javascript": [
              "\n",
              "    async function download(id, filename, size) {\n",
              "      if (!google.colab.kernel.accessAllowed) {\n",
              "        return;\n",
              "      }\n",
              "      const div = document.createElement('div');\n",
              "      const label = document.createElement('label');\n",
              "      label.textContent = `Downloading \"${filename}\": `;\n",
              "      div.appendChild(label);\n",
              "      const progress = document.createElement('progress');\n",
              "      progress.max = size;\n",
              "      div.appendChild(progress);\n",
              "      document.body.appendChild(div);\n",
              "\n",
              "      const buffers = [];\n",
              "      let downloaded = 0;\n",
              "\n",
              "      const channel = await google.colab.kernel.comms.open(id);\n",
              "      // Send a message to notify the kernel that we're ready.\n",
              "      channel.send({})\n",
              "\n",
              "      for await (const message of channel.messages) {\n",
              "        // Send a message to notify the kernel that we're ready.\n",
              "        channel.send({})\n",
              "        if (message.buffers) {\n",
              "          for (const buffer of message.buffers) {\n",
              "            buffers.push(buffer);\n",
              "            downloaded += buffer.byteLength;\n",
              "            progress.value = downloaded;\n",
              "          }\n",
              "        }\n",
              "      }\n",
              "      const blob = new Blob(buffers, {type: 'application/binary'});\n",
              "      const a = document.createElement('a');\n",
              "      a.href = window.URL.createObjectURL(blob);\n",
              "      a.download = filename;\n",
              "      div.appendChild(a);\n",
              "      a.click();\n",
              "      div.remove();\n",
              "    }\n",
              "  "
            ]
          },
          "metadata": {}
        },
        {
          "output_type": "display_data",
          "data": {
            "text/plain": [
              "<IPython.core.display.Javascript object>"
            ],
            "application/javascript": [
              "download(\"download_e44cbb5b-1859-431a-ab0e-b7e21c08c23e\", \"Valores_nulos.csv\", 18608)"
            ]
          },
          "metadata": {}
        }
      ]
    }
  ]
}